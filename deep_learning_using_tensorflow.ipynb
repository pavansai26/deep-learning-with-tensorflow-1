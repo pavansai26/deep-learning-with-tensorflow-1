{
  "nbformat": 4,
  "nbformat_minor": 0,
  "metadata": {
    "colab": {
      "name": "deep learning using tensorflow.ipynb",
      "provenance": [],
      "include_colab_link": true
    },
    "kernelspec": {
      "name": "python3",
      "display_name": "Python 3"
    },
    "accelerator": "GPU"
  },
  "cells": [
    {
      "cell_type": "markdown",
      "metadata": {
        "id": "view-in-github",
        "colab_type": "text"
      },
      "source": [
        "<a href=\"https://colab.research.google.com/github/pavansai26/deep-learning-with-tensorflow-1/blob/master/deep_learning_using_tensorflow.ipynb\" target=\"_parent\"><img src=\"https://colab.research.google.com/assets/colab-badge.svg\" alt=\"Open In Colab\"/></a>"
      ]
    },
    {
      "cell_type": "code",
      "metadata": {
        "id": "fT28y4uqwSjF",
        "colab_type": "code",
        "colab": {}
      },
      "source": [
        "import tensorflow as tf\n",
        "import pandas as pd\n",
        "import numpy as np"
      ],
      "execution_count": 0,
      "outputs": []
    },
    {
      "cell_type": "code",
      "metadata": {
        "id": "g6TKzP3N1nqI",
        "colab_type": "code",
        "colab": {}
      },
      "source": [
        "x=tf.placeholder(tf.float32,[100,28,28,1])"
      ],
      "execution_count": 0,
      "outputs": []
    },
    {
      "cell_type": "code",
      "metadata": {
        "id": "vApRHb7l4QCy",
        "colab_type": "code",
        "colab": {}
      },
      "source": [
        "w=tf.Variable(tf.zeros([784,10]))"
      ],
      "execution_count": 0,
      "outputs": []
    },
    {
      "cell_type": "code",
      "metadata": {
        "id": "fCCiXVZH4qSd",
        "colab_type": "code",
        "colab": {}
      },
      "source": [
        "b=tf.Variable(tf.zeros([10]))"
      ],
      "execution_count": 0,
      "outputs": []
    },
    {
      "cell_type": "code",
      "metadata": {
        "id": "Pgggkq9q4zl9",
        "colab_type": "code",
        "colab": {
          "base_uri": "https://localhost:8080/",
          "height": 34
        },
        "outputId": "63d12173-84e1-45cd-e0e9-88256cb92f59"
      },
      "source": [
        "b"
      ],
      "execution_count": 56,
      "outputs": [
        {
          "output_type": "execute_result",
          "data": {
            "text/plain": [
              "<tf.Variable 'Variable_5:0' shape=(10,) dtype=float32_ref>"
            ]
          },
          "metadata": {
            "tags": []
          },
          "execution_count": 56
        }
      ]
    },
    {
      "cell_type": "code",
      "metadata": {
        "id": "BHvaAkee40ee",
        "colab_type": "code",
        "colab": {
          "base_uri": "https://localhost:8080/",
          "height": 34
        },
        "outputId": "37d6f0c2-70b4-436c-e483-bd938d37ac2b"
      },
      "source": [
        "print(w)"
      ],
      "execution_count": 57,
      "outputs": [
        {
          "output_type": "stream",
          "text": [
            "<tf.Variable 'Variable_4:0' shape=(784, 10) dtype=float32_ref>\n"
          ],
          "name": "stdout"
        }
      ]
    },
    {
      "cell_type": "code",
      "metadata": {
        "id": "GaDbXK7Z42YN",
        "colab_type": "code",
        "colab": {
          "base_uri": "https://localhost:8080/",
          "height": 34
        },
        "outputId": "0f124f64-f03d-4d6d-b26b-5a6cbba0adda"
      },
      "source": [
        "print(x)"
      ],
      "execution_count": 58,
      "outputs": [
        {
          "output_type": "stream",
          "text": [
            "Tensor(\"Placeholder_4:0\", shape=(100, 784), dtype=float32)\n"
          ],
          "name": "stdout"
        }
      ]
    },
    {
      "cell_type": "code",
      "metadata": {
        "id": "2ZK6vLbx48QE",
        "colab_type": "code",
        "colab": {}
      },
      "source": [
        "init=tf.initialize_all_variables()"
      ],
      "execution_count": 0,
      "outputs": []
    },
    {
      "cell_type": "code",
      "metadata": {
        "id": "6v1YHZvW5EqP",
        "colab_type": "code",
        "colab": {
          "base_uri": "https://localhost:8080/",
          "height": 34
        },
        "outputId": "4ab9dd40-545d-4a12-ca07-981654481b0d"
      },
      "source": [
        "tf.global_variables_initializer()"
      ],
      "execution_count": 60,
      "outputs": [
        {
          "output_type": "execute_result",
          "data": {
            "text/plain": [
              "<tf.Operation 'init_5' type=NoOp>"
            ]
          },
          "metadata": {
            "tags": []
          },
          "execution_count": 60
        }
      ]
    },
    {
      "cell_type": "code",
      "metadata": {
        "id": "rjxuD6yw5MCi",
        "colab_type": "code",
        "colab": {}
      },
      "source": [
        "#model\n",
        "y=tf.nn.softmax(tf.matmul(tf.reshape(x,[-1,784]),w)+b)"
      ],
      "execution_count": 0,
      "outputs": []
    },
    {
      "cell_type": "code",
      "metadata": {
        "id": "rCn3lWH4LRBL",
        "colab_type": "code",
        "colab": {}
      },
      "source": [
        "y1=tf.nn.relu(tf.matmul(x,w)+b) # relu function"
      ],
      "execution_count": 0,
      "outputs": []
    },
    {
      "cell_type": "code",
      "metadata": {
        "id": "3OStEScr6bmZ",
        "colab_type": "code",
        "colab": {}
      },
      "source": [
        "y_=tf.placeholder(tf.float32,[None,10])"
      ],
      "execution_count": 0,
      "outputs": []
    },
    {
      "cell_type": "code",
      "metadata": {
        "id": "f6GPETjF6ox6",
        "colab_type": "code",
        "colab": {}
      },
      "source": [
        "#loss function\n",
        "cross_entropy=-tf.reduce_sum(y_*tf.log(y))"
      ],
      "execution_count": 0,
      "outputs": []
    },
    {
      "cell_type": "code",
      "metadata": {
        "id": "Js1yTmEP6-F6",
        "colab_type": "code",
        "colab": {}
      },
      "source": [
        "# % of correct answers found in batch\n",
        "is_correct=tf.equal(tf.argmax(y,1),tf.argmax(y_,1))"
      ],
      "execution_count": 0,
      "outputs": []
    },
    {
      "cell_type": "code",
      "metadata": {
        "id": "8Vo73FpF7UZr",
        "colab_type": "code",
        "colab": {}
      },
      "source": [
        "accuracy=tf.reduce_mean(tf.cast(is_correct,tf.float32))"
      ],
      "execution_count": 0,
      "outputs": []
    },
    {
      "cell_type": "code",
      "metadata": {
        "id": "C_ehZhG17uwS",
        "colab_type": "code",
        "colab": {
          "base_uri": "https://localhost:8080/",
          "height": 34
        },
        "outputId": "779584f8-808d-448e-fde2-222433cb8d87"
      },
      "source": [
        "print(is_correct)"
      ],
      "execution_count": 66,
      "outputs": [
        {
          "output_type": "stream",
          "text": [
            "Tensor(\"Equal_2:0\", shape=(100,), dtype=bool)\n"
          ],
          "name": "stdout"
        }
      ]
    },
    {
      "cell_type": "code",
      "metadata": {
        "id": "lyvzh86v7x1c",
        "colab_type": "code",
        "colab": {
          "base_uri": "https://localhost:8080/",
          "height": 34
        },
        "outputId": "ddc8fa36-0de7-49f2-df1a-13c57b361428"
      },
      "source": [
        "print(accuracy)"
      ],
      "execution_count": 67,
      "outputs": [
        {
          "output_type": "stream",
          "text": [
            "Tensor(\"Mean_2:0\", shape=(), dtype=float32)\n"
          ],
          "name": "stdout"
        }
      ]
    },
    {
      "cell_type": "code",
      "metadata": {
        "id": "sJPy1pk171L6",
        "colab_type": "code",
        "colab": {}
      },
      "source": [
        "optimizer=tf.train.GradientDescentOptimizer(0.003)"
      ],
      "execution_count": 0,
      "outputs": []
    },
    {
      "cell_type": "code",
      "metadata": {
        "id": "l8HXywLu8V9H",
        "colab_type": "code",
        "colab": {}
      },
      "source": [
        "train_step=optimizer.minimize(cross_entropy)"
      ],
      "execution_count": 0,
      "outputs": []
    },
    {
      "cell_type": "code",
      "metadata": {
        "id": "Vodcvvmd8jW0",
        "colab_type": "code",
        "colab": {}
      },
      "source": [
        "optimizer1=tf.train.AdadeltaOptimizer(0.3)"
      ],
      "execution_count": 0,
      "outputs": []
    },
    {
      "cell_type": "code",
      "metadata": {
        "id": "k1lufrGY87DP",
        "colab_type": "code",
        "colab": {}
      },
      "source": [
        "train_step1=optimizer1.minimize(cross_entropy)"
      ],
      "execution_count": 0,
      "outputs": []
    },
    {
      "cell_type": "code",
      "metadata": {
        "id": "qJdSNPBa9ItI",
        "colab_type": "code",
        "colab": {}
      },
      "source": [
        "optimizer2=tf.train.AdagradOptimizer(0.002)"
      ],
      "execution_count": 0,
      "outputs": []
    },
    {
      "cell_type": "code",
      "metadata": {
        "id": "b6DVZp119y6z",
        "colab_type": "code",
        "colab": {}
      },
      "source": [
        "train_step2=tf.train.AdamOptimizer(cross_entropy)"
      ],
      "execution_count": 0,
      "outputs": []
    },
    {
      "cell_type": "code",
      "metadata": {
        "id": "zUb_J18d-E10",
        "colab_type": "code",
        "colab": {}
      },
      "source": [
        "sess=tf.Session()\n",
        "sess.run(init)"
      ],
      "execution_count": 0,
      "outputs": []
    },
    {
      "cell_type": "code",
      "metadata": {
        "id": "vPkh1n2PBVV-",
        "colab_type": "code",
        "colab": {
          "base_uri": "https://localhost:8080/",
          "height": 85
        },
        "outputId": "0b563f56-5ed3-4046-ecaa-51d337791925"
      },
      "source": [
        "from tensorflow.examples.tutorials.mnist import input_data\n",
        "mnist = input_data.read_data_sets(\"MNIST_data\", one_hot=True)"
      ],
      "execution_count": 75,
      "outputs": [
        {
          "output_type": "stream",
          "text": [
            "Extracting MNIST_data/train-images-idx3-ubyte.gz\n",
            "Extracting MNIST_data/train-labels-idx1-ubyte.gz\n",
            "Extracting MNIST_data/t10k-images-idx3-ubyte.gz\n",
            "Extracting MNIST_data/t10k-labels-idx1-ubyte.gz\n"
          ],
          "name": "stdout"
        }
      ]
    },
    {
      "cell_type": "code",
      "metadata": {
        "id": "Pgynz9r6A5Vt",
        "colab_type": "code",
        "colab": {}
      },
      "source": [
        "for i in range(10000):\n",
        "  #load batch of images and correct answers\n",
        "  batch_x,batch_y=mnist.train.next_batch(100) # mini batch because we use every 100 images for every training\n",
        "  train_data={x:batch_x,y:batch_y}\n",
        "  #train\n",
        "  sess.run(train_step,feed_dict=train_data)\n",
        "  a,c=sess.run([accuracy,cross_entropy],feed_dict=train_data)\n",
        "  #test data\n",
        "  test_data={x:mnist.test.images,y_:mnist.test.labels}\n",
        "  a,c=sess.run([accuracy,cross_entropy],feed_dict=test_data)"
      ],
      "execution_count": 0,
      "outputs": []
    },
    {
      "cell_type": "code",
      "metadata": {
        "id": "-qJdzZdKDqCc",
        "colab_type": "code",
        "colab": {}
      },
      "source": [
        " #test data\n",
        "  test_data={x:mnist.test.images,y_:mnist.test.labels}\n",
        "  a,c=sess.run([accuracy,cross_entropy],feed_dict=test_data)"
      ],
      "execution_count": 0,
      "outputs": []
    },
    {
      "cell_type": "code",
      "metadata": {
        "id": "7RkwG0f0D38c",
        "colab_type": "code",
        "colab": {}
      },
      "source": [
        "k=200\n",
        "l=100\n",
        "m=60\n",
        "n=30"
      ],
      "execution_count": 0,
      "outputs": []
    },
    {
      "cell_type": "code",
      "metadata": {
        "id": "-D6vdPPzD4H7",
        "colab_type": "code",
        "colab": {}
      },
      "source": [
        "#weights initialized with random values\n",
        "w1=tf.Variable(tf.truncated_normal([28*28,k],stddev=0.1))\n",
        "b1=tf.Variable(tf.zeros([k]))"
      ],
      "execution_count": 0,
      "outputs": []
    },
    {
      "cell_type": "code",
      "metadata": {
        "id": "DPYQRaDTD4vE",
        "colab_type": "code",
        "colab": {}
      },
      "source": [
        "w2=tf.Variable(tf.truncated_normal([k,l],stddev=0.1))\n",
        "b2=tf.Variable(tf.zeros([l]))"
      ],
      "execution_count": 0,
      "outputs": []
    },
    {
      "cell_type": "code",
      "metadata": {
        "id": "zC0M3lf5D4rp",
        "colab_type": "code",
        "colab": {}
      },
      "source": [
        "w2=tf.Variable(tf.truncated_normal([l,m],stddev=0.1))\n",
        "b2=tf.Variable(tf.zeros([m]))"
      ],
      "execution_count": 0,
      "outputs": []
    },
    {
      "cell_type": "code",
      "metadata": {
        "id": "fyzFURFzD4oH",
        "colab_type": "code",
        "colab": {}
      },
      "source": [
        "w2=tf.Variable(tf.truncated_normal([m,n],stddev=0.1))\n",
        "b2=tf.Variable(tf.zeros([n]))"
      ],
      "execution_count": 0,
      "outputs": []
    },
    {
      "cell_type": "code",
      "metadata": {
        "id": "juHUa43YD4j7",
        "colab_type": "code",
        "colab": {}
      },
      "source": [
        "w2=tf.Variable(tf.truncated_normal([n,10],stddev=0.1))\n",
        "b2=tf.Variable(tf.zeros([10]))"
      ],
      "execution_count": 0,
      "outputs": []
    },
    {
      "cell_type": "code",
      "metadata": {
        "id": "w4M0WkvTJv9b",
        "colab_type": "code",
        "colab": {}
      },
      "source": [
        "x=tf.reshape(x,[-1,28*28])\n",
        "y1=tf.nn.sigmoid(tf.matmul(x,w1)+b1)\n",
        "y2=tf.nn.sigmoid(tf.matmul(y1,w2)+b2)\n",
        "y3=tf.nn.sigmoid(tf.matmul(y2,w3)+b3)\n",
        "y4=tf.nn.sigmoid(tf.matmul(y3,w4)+b4)\n",
        "y=tf.nn.softmax(tf.matmul(y4,w1)+b5)\n"
      ],
      "execution_count": 0,
      "outputs": []
    },
    {
      "cell_type": "code",
      "metadata": {
        "id": "r5Pe-23SJwNc",
        "colab_type": "code",
        "colab": {
          "base_uri": "https://localhost:8080/",
          "height": 88
        },
        "outputId": "6cb4d463-4e49-4fcf-a299-0fd92a2a1e8c"
      },
      "source": [
        "pkeep=tf.placeholder(tf.float32)\n",
        "yf=tf.nn.relu(tf.matmul(x,w)+b)\n",
        "y=tf.nn.dropout(yf,pkeep)"
      ],
      "execution_count": 94,
      "outputs": [
        {
          "output_type": "stream",
          "text": [
            "WARNING:tensorflow:From <ipython-input-94-40de07a8cc46>:3: calling dropout (from tensorflow.python.ops.nn_ops) with keep_prob is deprecated and will be removed in a future version.\n",
            "Instructions for updating:\n",
            "Please use `rate` instead of `keep_prob`. Rate should be set to `rate = 1 - keep_prob`.\n"
          ],
          "name": "stdout"
        }
      ]
    },
    {
      "cell_type": "code",
      "metadata": {
        "id": "wryHQtqOJwov",
        "colab_type": "code",
        "colab": {}
      },
      "source": [
        ""
      ],
      "execution_count": 0,
      "outputs": []
    },
    {
      "cell_type": "code",
      "metadata": {
        "id": "TnEubGXFJwl8",
        "colab_type": "code",
        "colab": {}
      },
      "source": [
        ""
      ],
      "execution_count": 0,
      "outputs": []
    },
    {
      "cell_type": "code",
      "metadata": {
        "id": "KMbwK_MnJwiu",
        "colab_type": "code",
        "colab": {}
      },
      "source": [
        ""
      ],
      "execution_count": 0,
      "outputs": []
    },
    {
      "cell_type": "code",
      "metadata": {
        "id": "I7kg5CGaJwfQ",
        "colab_type": "code",
        "colab": {}
      },
      "source": [
        ""
      ],
      "execution_count": 0,
      "outputs": []
    },
    {
      "cell_type": "code",
      "metadata": {
        "id": "gA9bLTe3Jwbr",
        "colab_type": "code",
        "colab": {}
      },
      "source": [
        ""
      ],
      "execution_count": 0,
      "outputs": []
    },
    {
      "cell_type": "code",
      "metadata": {
        "id": "SVGGlFSzJwXK",
        "colab_type": "code",
        "colab": {}
      },
      "source": [
        ""
      ],
      "execution_count": 0,
      "outputs": []
    }
  ]
}